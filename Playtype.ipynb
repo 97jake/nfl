{
 "cells": [
  {
   "cell_type": "code",
   "execution_count": 1,
   "id": "valid-subject",
   "metadata": {},
   "outputs": [],
   "source": [
    "import pandas as pd\n",
    "import numpy as np"
   ]
  },
  {
   "cell_type": "code",
   "execution_count": 2,
   "id": "fixed-convergence",
   "metadata": {},
   "outputs": [],
   "source": [
    "plays = pd.read_csv('plays.csv')\n",
    "week1 = pd.read_csv('week1.csv')"
   ]
  },
  {
   "cell_type": "code",
   "execution_count": 7,
   "id": "difficult-tours",
   "metadata": {},
   "outputs": [],
   "source": [
    "previousEvent = 'ball_snap'\n",
    "weekArray = np.array(week1)\n",
    "for i, instance in enumerate(weekArray):\n",
    "    event = instance[8]\n",
    "    frameId = instance[13]\n",
    "    if (previousEvent == 'ball_snap' and event != 'ball_snap') or frameId == 1:\n",
    "        weekArray[i][8] = 'ball_snap'\n",
    "        previousEvent = 'ball_snap'\n",
    "    elif (event == 'ball_snap'):\n",
    "        previousEvent = 'between_snap'\n",
    "    elif (previousEvent == 'between_snap' and event != 'pass_forward'):\n",
    "        weekArray[i][8] = 'between_snap'\n",
    "        previousEvent = 'between_snap'\n",
    "    elif (event == 'pass_forward'):\n",
    "        weekArray[i][8] = 'after_thrown'\n",
    "        previousEvent = 'after_thrown'\n",
    "    elif (previousEvent == 'after_thrown' and frameId != 1):\n",
    "        weekArray[i][8] = 'after_thrown'\n",
    "        previousEvent = 'after_thrown'\n",
    "        \n",
    "weekMod = pd.DataFrame(weekArray, columns=week1.columns)\n",
    "week1['event'] = weekMod['event']\n",
    "weekMod = week1"
   ]
  },
  {
   "cell_type": "markdown",
   "id": "hispanic-kingdom",
   "metadata": {},
   "source": [
    "Variance"
   ]
  },
  {
   "cell_type": "code",
   "execution_count": 9,
   "id": "eight-singapore",
   "metadata": {},
   "outputs": [],
   "source": [
    "varX = weekMod.groupby(['gameId', 'playId', 'event', 'nflId'])['x'].agg(['var']).reset_index().rename(columns={\"var\": \"varX\"})\n",
    "varY = weekMod.groupby(['gameId', 'playId', 'event', 'nflId'])['y'].agg(['var']).reset_index().rename(columns={\"var\": \"varY\"})\n",
    "varS = weekMod.groupby(['gameId', 'playId', 'event', 'nflId'])['s'].agg(['var']).reset_index().rename(columns={\"var\": \"varS\"})"
   ]
  },
  {
   "cell_type": "markdown",
   "id": "intense-linux",
   "metadata": {},
   "source": [
    "Mean Distance and Variance to nearest opposition"
   ]
  },
  {
   "cell_type": "code",
   "execution_count": 10,
   "id": "willing-husband",
   "metadata": {},
   "outputs": [],
   "source": [
    "groupedWeek = weekMod.groupby(['gameId', 'playId', 'frameId'])\n",
    "playerXY = {}\n",
    "for name, group in groupedWeek:\n",
    "    playerXY[name] = []\n",
    "    for row in group.iterrows():\n",
    "        data = [row[1]['nflId'], row[1]['team'], row[1]['x'], row[1]['y'], row[1]['dir']]\n",
    "        playerXY[name].append(data)\n",
    "\n",
    "features = list(weekMod.columns)\n",
    "weekArray = np.array(weekMod)\n",
    "minOppDist = []\n",
    "for player in weekArray:\n",
    "    if player[features.index('team')] != 'football':\n",
    "        opponentPositions = playerXY[(player[features.index('gameId')], player[features.index('playId')], player[features.index('frameId')])]\n",
    "        distances = []\n",
    "        directions = []\n",
    "        opponents = []\n",
    "        xs = []\n",
    "        ys = []\n",
    "        for oppPos in opponentPositions: \n",
    "            if player[features.index('team')] != oppPos[1] and player[features.index('team')] != 'football' and oppPos[1] != 'football':\n",
    "                dx = (player[features.index('x')] - oppPos[2])**2\n",
    "                dy = (player[features.index('y')] - oppPos[3])**2\n",
    "                dist = np.sqrt(dx+dy)\n",
    "                distances.append(dist)\n",
    "                directions.append(oppPos[4])\n",
    "                opponents.append(oppPos[0])\n",
    "                xs.append(oppPos[2])\n",
    "                ys.append(oppPos[3])\n",
    "        minDist = min(distances)\n",
    "        closestOpponent = opponents[np.argmin(distances)]\n",
    "        opponentDir = directions[np.argmin(distances)]\n",
    "        opponentX = xs[np.argmin(distances)]\n",
    "        opponentY = ys[np.argmin(distances)]\n",
    "        summary = [player[features.index('gameId')], player[features.index('playId')], player[features.index('frameId')], player[features.index('nflId')], minDist, closestOpponent, opponentDir, opponentX, opponentY]\n",
    "        minOppDist.append(summary)\n",
    "        \n",
    "minOppDist = pd.DataFrame(minOppDist, columns=['gameId', 'playId', 'frameId', 'nflId', 'oppMinDist', 'closestOpp(nflId)', 'oppDir', 'oppX', 'oppY'])\n",
    "weekMod = pd.merge(weekMod, minOppDist, how='left', on=['gameId', 'frameId', 'playId', 'nflId'])\n",
    "oppVar = weekMod.groupby(['gameId', 'playId', 'event', 'nflId'])['oppMinDist'].agg(['var']).reset_index().rename(columns={\"var\": \"oppVar\"})\n",
    "oppMean = weekMod.groupby(['gameId', 'playId', 'event', 'nflId'])['oppMinDist'].agg(['mean']).reset_index().rename(columns={\"mean\": \"oppMean\"})"
   ]
  },
  {
   "cell_type": "markdown",
   "id": "viral-valentine",
   "metadata": {},
   "source": [
    "Mean Distance and Variance to nearest teammate"
   ]
  },
  {
   "cell_type": "code",
   "execution_count": 11,
   "id": "comic-street",
   "metadata": {},
   "outputs": [],
   "source": [
    "features = list(weekMod.columns)\n",
    "weekArray = np.array(weekMod)\n",
    "minMateDist = []\n",
    "for player in weekArray:\n",
    "    if player[features.index('team')] != 'football':\n",
    "        matePositions = playerXY[(player[features.index('gameId')], player[features.index('playId')], player[features.index('frameId')])]\n",
    "        distances = []\n",
    "        mates = []\n",
    "        xs = []\n",
    "        ys = []\n",
    "        for matePos in matePositions: \n",
    "            if player[features.index('team')] == matePos[1] and player[features.index('nflId')] != matePos[0] and player[features.index('team')] != 'football' and matePos[1] != 'football':\n",
    "                dx = (player[features.index('x')] - matePos[2])**2\n",
    "                dy = (player[features.index('y')] - matePos[3])**2\n",
    "                dist = np.sqrt(dx+dy)\n",
    "                distances.append(dist)\n",
    "                mates.append(matePos[0])\n",
    "                xs.append(oppPos[2])\n",
    "                ys.append(oppPos[3])\n",
    "        minDist = min(distances)\n",
    "        closestMate = mates[np.argmin(distances)]\n",
    "        mateX = xs[np.argmin(distances)]\n",
    "        mateY = ys[np.argmin(distances)]\n",
    "        summary = [player[features.index('gameId')], player[features.index('playId')], player[features.index('frameId')], player[features.index('nflId')], minDist, closestMate, mateX, mateY]\n",
    "        minMateDist.append(summary)\n",
    "        \n",
    "minMateDist = pd.DataFrame(minMateDist, columns=['gameId', 'playId', 'frameId', 'nflId', 'mateMinDist', 'closestMate(nflId)', 'mateX', 'mateY'])\n",
    "weekMod = pd.merge(weekMod, minMateDist, how='left', on=['gameId', 'frameId', 'playId', 'nflId'])\n",
    "mateVar = weekMod.groupby(['gameId', 'playId', 'event', 'nflId'])['mateMinDist'].agg(['var']).reset_index().rename(columns={\"var\": \"mateVar\"})\n",
    "mateMean = weekMod.groupby(['gameId', 'playId', 'event', 'nflId'])['mateMinDist'].agg(['mean']).reset_index().rename(columns={\"mean\": \"mateMean\"})"
   ]
  },
  {
   "cell_type": "markdown",
   "id": "liberal-challenge",
   "metadata": {},
   "source": [
    "Mean and variance of degree of direction of motion"
   ]
  },
  {
   "cell_type": "code",
   "execution_count": 12,
   "id": "living-broadway",
   "metadata": {},
   "outputs": [],
   "source": [
    "diffDir = np.absolute(weekMod['dir'] - weekMod['oppDir'])\n",
    "weekMod['diffDir'] = diffDir\n",
    "oppDirVar = weekMod.groupby(['gameId', 'playId', 'event', 'nflId'])['diffDir'].agg(['var']).reset_index().rename(columns={\"var\": \"oppDirVar\"})\n",
    "oppDirMean = weekMod.groupby(['gameId', 'playId', 'event', 'nflId'])['diffDir'].agg(['mean']).reset_index().rename(columns={\"mean\": \"oppDirMean\"})"
   ]
  },
  {
   "cell_type": "markdown",
   "id": "suffering-chair",
   "metadata": {},
   "source": [
    "Mean and variance difference in degrees of the direction of motion between the player and the nearest opponent player"
   ]
  },
  {
   "cell_type": "code",
   "execution_count": 13,
   "id": "focused-banner",
   "metadata": {},
   "outputs": [],
   "source": [
    "ratio = weekMod['oppMinDist'] / np.sqrt((weekMod['oppX'] - weekMod['mateX'])**2 + (weekMod['oppY'] - weekMod['mateY'])**2)\n",
    "weekMod['oppMateDistRatio'] = ratio\n",
    "oppMateDistRatioMean = weekMod.groupby(['gameId', 'playId', 'event', 'nflId'])['oppMateDistRatio'].agg(['mean']).reset_index().rename(columns={\"mean\": \"meanOppMateDistRatio\"})\n",
    "oppMateDistRatioVar = weekMod.groupby(['gameId', 'playId', 'event', 'nflId'])['oppMateDistRatio'].agg(['var']).reset_index().rename(columns={\"var\": \"varOppMateDistRatio\"})"
   ]
  },
  {
   "cell_type": "markdown",
   "id": "accessory-transfer",
   "metadata": {},
   "source": [
    "Mean and variance ratio of the distance to the nearest opponent player and the distance from the nearest opponent player to the nearest team mate"
   ]
  },
  {
   "cell_type": "code",
   "execution_count": 14,
   "id": "valuable-mississippi",
   "metadata": {},
   "outputs": [],
   "source": [
    "features = [varX, varY, varS, oppVar, oppMean, mateVar, mateMean, oppDirVar, oppDirMean, oppMateDistRatioMean, oppMateDistRatioVar]\n",
    "for feature in features:\n",
    "    weekMod = pd.merge(weekMod, feature, how='left', on=['gameId', 'event', 'playId', 'nflId'])"
   ]
  },
  {
   "cell_type": "code",
   "execution_count": null,
   "id": "fitting-millennium",
   "metadata": {},
   "outputs": [],
   "source": []
  }
 ],
 "metadata": {
  "kernelspec": {
   "display_name": "Python 3",
   "language": "python",
   "name": "python3"
  },
  "language_info": {
   "codemirror_mode": {
    "name": "ipython",
    "version": 3
   },
   "file_extension": ".py",
   "mimetype": "text/x-python",
   "name": "python",
   "nbconvert_exporter": "python",
   "pygments_lexer": "ipython3",
   "version": "3.7.6"
  }
 },
 "nbformat": 4,
 "nbformat_minor": 5
}

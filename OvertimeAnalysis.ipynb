{
 "cells": [
  {
   "cell_type": "code",
   "execution_count": 118,
   "id": "scientific-visiting",
   "metadata": {},
   "outputs": [],
   "source": [
    "from bs4 import BeautifulSoup as bs\n",
    "import requests\n",
    "import re\n",
    "import pandas as pd"
   ]
  },
  {
   "cell_type": "code",
   "execution_count": 119,
   "id": "yellow-phenomenon",
   "metadata": {},
   "outputs": [
    {
     "name": "stdout",
     "output_type": "stream",
     "text": [
      "Available teams - \n",
      "['atl', 'phi', 'pit', 'cle', 'cin', 'ind', 'ten', 'mia', 'bal', 'buf', 'ne', 'hou', 'jax', 'nyg', 'no', 'tb', 'was', 'ari', 'car', 'dal', 'gb', 'chi', 'nyj', 'det', 'oak', 'la', 'min', 'lac', 'kc', 'sf', 'den', 'sea']\n"
     ]
    }
   ],
   "source": [
    "play_df = pd.read_csv('plays.csv')\n",
    "team_abbreviations = list(play_df['possessionTeam'].unique())\n",
    "\n",
    "new_team_abbr = [team.lower() for team in team_abbreviations]\n",
    "\n",
    "print(\"Available teams - \")\n",
    "print(new_team_abbr)"
   ]
  },
  {
   "cell_type": "code",
   "execution_count": 120,
   "id": "direct-liability",
   "metadata": {},
   "outputs": [],
   "source": [
    "def get_drive_info(game_ids):\n",
    "    \n",
    "    results = []\n",
    "    \n",
    "    for game in game_ids:\n",
    "        \n",
    "        my_url = 'https://www.espn.com/nfl/playbyplay?gameId={}'.format(game)\n",
    "\n",
    "        team_dict = {}\n",
    "\n",
    "        req = requests.get(my_url)\n",
    "        my_text = req.text\n",
    "        soup = bs(my_text, 'html.parser')\n",
    "\n",
    "        headlines = [item.get_text() for item in soup.find_all('span', class_='headline')]\n",
    "\n",
    "        sub_soup = soup.find(id='main-container')\n",
    "        logos = sub_soup.find_all('span', class_='home-logo')\n",
    "\n",
    "        team = re.compile(\"nfl/500/([a-z]{3})\")\n",
    "\n",
    "        team_abbr = []\n",
    "\n",
    "        for stuff in logos:\n",
    "            team_logo = team.findall(str(stuff))\n",
    "            \n",
    "            if team_logo:\n",
    "                team_logo = team_logo[0]\n",
    "            else:\n",
    "                pass\n",
    "\n",
    "            team_abbr.append(team_logo)\n",
    "\n",
    "        detail_soup = sub_soup.find_all('span',class_='drive-details')\n",
    "\n",
    "        yard_pattern = re.compile(\"(-?[0-9]*) yards?\")\n",
    "        yards = []\n",
    "        for detail in detail_soup:\n",
    "            deets = detail.get_text()\n",
    "            yards.append(yard_pattern.findall(deets)[0])\n",
    "\n",
    "        for i in range(len(headlines)):\n",
    "            detail_tuple = (team_abbr[i],headlines[i],yards[i])\n",
    "            results.append(detail_tuple)\n",
    "\n",
    "            \n",
    "    return results\n",
    "        \n",
    "        "
   ]
  },
  {
   "cell_type": "code",
   "execution_count": 121,
   "id": "amateur-waterproof",
   "metadata": {},
   "outputs": [],
   "source": [
    "def get_game_ids(team_abbr):\n",
    "    game_ids = []\n",
    "    \n",
    "    my_url = 'https://www.espn.com/nfl/team/schedule/_/name/{}/season/2018'.format(team_abbr)\n",
    "\n",
    "    req = requests.get(my_url)\n",
    "    my_text = req.text\n",
    "    soup = bs(my_text, 'html.parser')\n",
    "    \n",
    "    sub_soup = soup.find('section',class_='pt0')\n",
    "    \n",
    "    links = sub_soup.find_all('a',class_='AnchorLink')\n",
    "    \n",
    "    gameID = re.compile(\"gameId/([0-9]*)\")\n",
    "    \n",
    "    for stuff in links:\n",
    "        stuff = str(stuff)\n",
    "        \n",
    "        game_id = gameID.findall(stuff)\n",
    "        \n",
    "        if game_id:\n",
    "            game_ids.append(game_id[0])\n",
    "    \n",
    "    return game_ids\n"
   ]
  },
  {
   "cell_type": "code",
   "execution_count": 122,
   "id": "close-preserve",
   "metadata": {},
   "outputs": [],
   "source": [
    "ids= get_game_ids('bal')"
   ]
  },
  {
   "cell_type": "code",
   "execution_count": 123,
   "id": "banned-supervision",
   "metadata": {},
   "outputs": [],
   "source": [
    "team_list = get_drive_info(ids)"
   ]
  },
  {
   "cell_type": "code",
   "execution_count": 124,
   "id": "informative-monday",
   "metadata": {},
   "outputs": [
    {
     "data": {
      "text/plain": [
       "[('bal', 'Punt', '21'),\n",
       " ('lac', 'Punt', '7'),\n",
       " ('bal', 'Fumble', '-14'),\n",
       " ('lac', 'Field Goal', '12'),\n",
       " ('bal', 'Punt', '13'),\n",
       " ('lac', 'Field Goal', '7'),\n",
       " ('bal', 'Punt', '8'),\n",
       " ('lac', 'Punt', '29'),\n",
       " ('bal', 'Interception', '21'),\n",
       " ('lac', 'Field Goal', '37'),\n",
       " ('bal', 'Punt', '6'),\n",
       " ('lac', 'Field Goal', '58'),\n",
       " ('lac', 'Missed FG', '3'),\n",
       " ('bal', 'Punt', '-10'),\n",
       " ('lac', 'Fumble', '9'),\n",
       " ('bal', 'Field Goal', '6'),\n",
       " ('lac', 'Punt', '4'),\n",
       " ('bal', 'Missed FG', '8'),\n",
       " ('lac', 'Touchdown', '60'),\n",
       " ('bal', 'Punt', '-9')]"
      ]
     },
     "execution_count": 124,
     "metadata": {},
     "output_type": "execute_result"
    }
   ],
   "source": [
    "team_list[:20]"
   ]
  },
  {
   "cell_type": "code",
   "execution_count": null,
   "id": "light-pizza",
   "metadata": {},
   "outputs": [],
   "source": []
  }
 ],
 "metadata": {
  "kernelspec": {
   "display_name": "Python 3",
   "language": "python",
   "name": "python3"
  },
  "language_info": {
   "codemirror_mode": {
    "name": "ipython",
    "version": 3
   },
   "file_extension": ".py",
   "mimetype": "text/x-python",
   "name": "python",
   "nbconvert_exporter": "python",
   "pygments_lexer": "ipython3",
   "version": "3.7.6"
  }
 },
 "nbformat": 4,
 "nbformat_minor": 5
}

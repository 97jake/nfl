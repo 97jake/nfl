{
 "cells": [
  {
   "cell_type": "code",
   "execution_count": 118,
   "id": "passing-necklace",
   "metadata": {},
   "outputs": [],
   "source": [
    "from bs4 import BeautifulSoup as bs\n",
    "import requests\n",
    "import re\n",
    "import pandas as pd"
   ]
  },
  {
   "cell_type": "code",
   "execution_count": 119,
   "id": "temporal-puppy",
   "metadata": {},
   "outputs": [
    {
     "name": "stdout",
     "output_type": "stream",
     "text": [
      "Available teams - \n",
      "['atl', 'phi', 'pit', 'cle', 'cin', 'ind', 'ten', 'mia', 'bal', 'buf', 'ne', 'hou', 'jax', 'nyg', 'no', 'tb', 'was', 'ari', 'car', 'dal', 'gb', 'chi', 'nyj', 'det', 'oak', 'la', 'min', 'lac', 'kc', 'sf', 'den', 'sea']\n"
     ]
    }
   ],
   "source": [
    "play_df = pd.read_csv('plays.csv')\n",
    "team_abbreviations = list(play_df['possessionTeam'].unique())\n",
    "\n",
    "new_team_abbr = [team.lower() for team in team_abbreviations]\n",
    "\n",
    "print(\"Available teams - \")\n",
    "print(new_team_abbr)"
   ]
  },
  {
   "cell_type": "code",
   "execution_count": 120,
   "id": "chicken-evening",
   "metadata": {},
   "outputs": [],
   "source": [
    "def get_drive_info(game_ids):\n",
    "    \n",
    "    results = []\n",
    "    \n",
    "    for game in game_ids:\n",
    "        \n",
    "        my_url = 'https://www.espn.com/nfl/playbyplay?gameId={}'.format(game)\n",
    "\n",
    "        team_dict = {}\n",
    "\n",
    "        req = requests.get(my_url)\n",
    "        my_text = req.text\n",
    "        soup = bs(my_text, 'html.parser')\n",
    "\n",
    "        headlines = [item.get_text() for item in soup.find_all('span', class_='headline')]\n",
    "\n",
    "        sub_soup = soup.find(id='main-container')\n",
    "        logos = sub_soup.find_all('span', class_='home-logo')\n",
    "\n",
    "        team = re.compile(\"nfl/500/([a-z]{3})\")\n",
    "\n",
    "        team_abbr = []\n",
    "\n",
    "        for stuff in logos:\n",
    "            team_logo = team.findall(str(stuff))\n",
    "            \n",
    "            if team_logo:\n",
    "                team_logo = team_logo[0]\n",
    "            else:\n",
    "                pass\n",
    "\n",
    "            team_abbr.append(team_logo)\n",
    "\n",
    "        detail_soup = sub_soup.find_all('span',class_='drive-details')\n",
    "\n",
    "        yard_pattern = re.compile(\"(-?[0-9]*) yards?\")\n",
    "        yards = []\n",
    "        for detail in detail_soup:\n",
    "            deets = detail.get_text()\n",
    "            yards.append(yard_pattern.findall(deets)[0])\n",
    "\n",
    "        for i in range(len(headlines)):\n",
    "            detail_tuple = (team_abbr[i],headlines[i],yards[i])\n",
    "            results.append(detail_tuple)\n",
    "\n",
    "            \n",
    "    return results\n",
    "        \n",
    "        "
   ]
  },
  {
   "cell_type": "code",
   "execution_count": 125,
   "id": "permanent-brunswick",
   "metadata": {},
   "outputs": [],
   "source": [
    "def get_game_ids(team_abbr,year):\n",
    "    game_ids = []\n",
    "    \n",
    "    my_url = 'https://www.espn.com/nfl/team/schedule/_/name/{}/season/{}'.format(team_abbr,year)\n",
    "\n",
    "    req = requests.get(my_url)\n",
    "    my_text = req.text\n",
    "    soup = bs(my_text, 'html.parser')\n",
    "    \n",
    "    sub_soup = soup.find('section',class_='pt0')\n",
    "    \n",
    "    links = sub_soup.find_all('a',class_='AnchorLink')\n",
    "    \n",
    "    gameID = re.compile(\"gameId/([0-9]*)\")\n",
    "    \n",
    "    for stuff in links:\n",
    "        stuff = str(stuff)\n",
    "        \n",
    "        game_id = gameID.findall(stuff)\n",
    "        \n",
    "        if game_id:\n",
    "            game_ids.append(game_id[0])\n",
    "    \n",
    "    return game_ids\n"
   ]
  },
  {
   "cell_type": "code",
   "execution_count": 129,
   "id": "automatic-lease",
   "metadata": {},
   "outputs": [],
   "source": [
    "ids= get_game_ids('bal',2016)"
   ]
  },
  {
   "cell_type": "code",
   "execution_count": 130,
   "id": "differential-lender",
   "metadata": {},
   "outputs": [],
   "source": [
    "team_list = get_drive_info(ids)"
   ]
  },
  {
   "cell_type": "code",
   "execution_count": 131,
   "id": "acknowledged-jersey",
   "metadata": {},
   "outputs": [
    {
     "data": {
      "text/plain": [
       "[('bal', 'Punt', '15'),\n",
       " ('buf', 'Punt', '-8'),\n",
       " ('bal', 'Fumble', '13'),\n",
       " ('buf', 'Punt', '-1'),\n",
       " ('bal', 'Field Goal', '59'),\n",
       " ('buf', 'Punt', '11'),\n",
       " ('bal', 'Touchdown', '85'),\n",
       " ('buf', 'Touchdown', '75'),\n",
       " ('bal', 'End of Half', '21'),\n",
       " ('buf', 'Missed FG', '44'),\n",
       " ('bal', 'Punt', '8'),\n",
       " ('buf', 'Punt', '17'),\n",
       " ('bal', 'Downs', '49'),\n",
       " ('buf', 'Punt', '9'),\n",
       " ('bal', 'Punt', '-8'),\n",
       " ('buf', 'Punt', '6'),\n",
       " ('bal', 'Field Goal', '59'),\n",
       " ('buf', 'Punt', '-8'),\n",
       " ('bal', 'End of Game', '19'),\n",
       " ('cle', 'Touchdown', '75')]"
      ]
     },
     "execution_count": 131,
     "metadata": {},
     "output_type": "execute_result"
    }
   ],
   "source": [
    "team_list[:20]"
   ]
  },
  {
   "cell_type": "code",
   "execution_count": null,
   "id": "sudden-backup",
   "metadata": {},
   "outputs": [],
   "source": []
  }
 ],
 "metadata": {
  "kernelspec": {
   "display_name": "Python 3",
   "language": "python",
   "name": "python3"
  },
  "language_info": {
   "codemirror_mode": {
    "name": "ipython",
    "version": 3
   },
   "file_extension": ".py",
   "mimetype": "text/x-python",
   "name": "python",
   "nbconvert_exporter": "python",
   "pygments_lexer": "ipython3",
   "version": "3.7.6"
  }
 },
 "nbformat": 4,
 "nbformat_minor": 5
}

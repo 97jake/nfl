{
 "cells": [
  {
   "cell_type": "code",
   "execution_count": 26,
   "id": "exciting-throw",
   "metadata": {},
   "outputs": [],
   "source": [
    "from bs4 import BeautifulSoup as bs\n",
    "import requests\n",
    "import re"
   ]
  },
  {
   "cell_type": "code",
   "execution_count": 2,
   "id": "conceptual-dietary",
   "metadata": {},
   "outputs": [],
   "source": [
    "my_url = 'https://www.espn.com/nfl/playbyplay?gameId=401030711'"
   ]
  },
  {
   "cell_type": "code",
   "execution_count": 102,
   "id": "operating-lindsay",
   "metadata": {},
   "outputs": [],
   "source": [
    "def get_drive_info(game_ids):\n",
    "    \n",
    "    results = []\n",
    "    \n",
    "    for game in game_ids:\n",
    "        \n",
    "        my_url = 'https://www.espn.com/nfl/playbyplay?gameId={}'.format(game)\n",
    "\n",
    "        team_dict = {}\n",
    "\n",
    "        req = requests.get(my_url)\n",
    "        my_text = req.text\n",
    "        soup = bs(my_text, 'html.parser')\n",
    "\n",
    "        headlines = [item.get_text() for item in soup.find_all('span', class_='headline')]\n",
    "\n",
    "        sub_soup = soup.find(id='main-container')\n",
    "        logos = sub_soup.find_all('span', class_='home-logo')\n",
    "\n",
    "        team = re.compile(\"nfl/500/([a-z]{3})\")\n",
    "\n",
    "        team_abbr = []\n",
    "\n",
    "        for stuff in logos:\n",
    "            team_logo = team.findall(str(stuff))\n",
    "            \n",
    "            if team_logo:\n",
    "                team_logo = team_logo[0]\n",
    "            else:\n",
    "                pass\n",
    "\n",
    "            team_abbr.append(team_logo)\n",
    "\n",
    "        detail_soup = sub_soup.find_all('span',class_='drive-details')\n",
    "\n",
    "        yard_pattern = re.compile(\"(-?[0-9]*) yards?\")\n",
    "        yards = []\n",
    "        for detail in detail_soup:\n",
    "            deets = detail.get_text()\n",
    "            yards.append(yard_pattern.findall(deets)[0])\n",
    "\n",
    "        for i in range(len(headlines)):\n",
    "            detail_tuple = (team_abbr[i],headlines[i],yards[i])\n",
    "            results.append(detail_tuple)\n",
    "\n",
    "            \n",
    "    return results\n",
    "        \n",
    "        "
   ]
  },
  {
   "cell_type": "code",
   "execution_count": 103,
   "id": "covered-folder",
   "metadata": {},
   "outputs": [],
   "source": [
    "def get_game_ids():\n",
    "    game_ids = []\n",
    "    \n",
    "    my_url = 'https://www.espn.com/nfl/team/schedule/_/name/bal/season/2018'\n",
    "\n",
    "    req = requests.get(my_url)\n",
    "    my_text = req.text\n",
    "    soup = bs(my_text, 'html.parser')\n",
    "    \n",
    "    sub_soup = soup.find('section',class_='pt0')\n",
    "    \n",
    "    links = sub_soup.find_all('a',class_='AnchorLink')\n",
    "    \n",
    "    gameID = re.compile(\"gameId/([0-9]*)\")\n",
    "    \n",
    "    for stuff in links:\n",
    "        stuff = str(stuff)\n",
    "        \n",
    "        game_id = gameID.findall(stuff)\n",
    "        \n",
    "        if game_id:\n",
    "            game_ids.append(game_id[0])\n",
    "    \n",
    "    return game_ids\n"
   ]
  },
  {
   "cell_type": "code",
   "execution_count": 104,
   "id": "cosmetic-warrant",
   "metadata": {},
   "outputs": [
    {
     "data": {
      "text/plain": [
       "[('bal', 'Punt', '21'),\n",
       " ('lac', 'Punt', '7'),\n",
       " ('bal', 'Fumble', '-14'),\n",
       " ('lac', 'Field Goal', '12'),\n",
       " ('bal', 'Punt', '13'),\n",
       " ('lac', 'Field Goal', '7'),\n",
       " ('bal', 'Punt', '8'),\n",
       " ('lac', 'Punt', '29'),\n",
       " ('bal', 'Interception', '21'),\n",
       " ('lac', 'Field Goal', '37'),\n",
       " ('bal', 'Punt', '6'),\n",
       " ('lac', 'Field Goal', '58'),\n",
       " ('lac', 'Missed FG', '3'),\n",
       " ('bal', 'Punt', '-10'),\n",
       " ('lac', 'Fumble', '9'),\n",
       " ('bal', 'Field Goal', '6'),\n",
       " ('lac', 'Punt', '4'),\n",
       " ('bal', 'Missed FG', '8'),\n",
       " ('lac', 'Touchdown', '60'),\n",
       " ('bal', 'Punt', '-9'),\n",

      ]
     },
     "execution_count": 104,
     "metadata": {},
     "output_type": "execute_result"
    }
   ],
   "source": [
    "ids= get_game_ids()\n",
    "get_drive_info(ids)"
   ]
  },
  {
   "cell_type": "code",
   "execution_count": null,
   "id": "ordinary-biotechnology",
   "metadata": {},
   "outputs": [],
   "source": []
  }
 ],
 "metadata": {
  "kernelspec": {
   "display_name": "Python 3",
   "language": "python",
   "name": "python3"
  },
  "language_info": {
   "codemirror_mode": {
    "name": "ipython",
    "version": 3
   },
   "file_extension": ".py",
   "mimetype": "text/x-python",
   "name": "python",
   "nbconvert_exporter": "python",
   "pygments_lexer": "ipython3",
   "version": "3.7.6"
  }
 },
 "nbformat": 4,
 "nbformat_minor": 5
}
